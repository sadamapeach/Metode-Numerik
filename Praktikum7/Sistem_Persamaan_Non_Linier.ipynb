{
  "nbformat": 4,
  "nbformat_minor": 0,
  "metadata": {
    "colab": {
      "provenance": []
    },
    "kernelspec": {
      "name": "python3",
      "display_name": "Python 3"
    },
    "language_info": {
      "name": "python"
    }
  },
  "cells": [
    {
      "cell_type": "code",
      "execution_count": 18,
      "metadata": {
        "id": "ZgvM2FqclIjr"
      },
      "outputs": [],
      "source": [
        "import numpy as np\n",
        "from scipy.optimize import minimize\n",
        "import math"
      ]
    },
    {
      "cell_type": "code",
      "source": [
        "## module gaussElimin\n",
        "\"\"\" x = gaussElimin(a,b).\n",
        "Menyelesaikan [a]{b} = {x} dengan Eliminasi Gauss .\n",
        "\"\"\"\n",
        "def gaussElimin(a,b):\n",
        "  n = len(b)\n",
        "  # phase Eliminasi Gauss \n",
        "  for k in range(0, n-1):\n",
        "    for i in range(k+1, n):\n",
        "      if a[i,k] != 0.0:\n",
        "        lam = a [i,k]/a[k,k]\n",
        "        a[i,k+1:n] = a[i,k+1:n] - lam*a[k,k+1:n]\n",
        "        b[i] = b[i] - lam*b[k]\n",
        "        \n",
        "  # Substitusi Mundur\n",
        "  for k in range(n-1,-1,-1):\n",
        "    b[k] = (b[k] - np.dot(a[k,k+1:n],b[k+1:n]))/a[k,k]\n",
        "  return b"
      ],
      "metadata": {
        "id": "PYz1Z5yrIC4T"
      },
      "execution_count": 19,
      "outputs": []
    },
    {
      "cell_type": "code",
      "source": [
        "## module newtonRaphson2\n",
        "def newtonRaphson2(f,x,tol=1.0e-9):\n",
        "  def jacobian(f,x):\n",
        "    h = 1.0e-4\n",
        "    n = len(x)\n",
        "    jac = np.zeros((n,n))\n",
        "    f0 = f(x)\n",
        "    for i in range(n):\n",
        "      temp = x[i]\n",
        "      x[i] = temp + h\n",
        "      f1 = f(x)\n",
        "      x[i] = temp\n",
        "      jac[:,i] = (f1 - f0)/h\n",
        "    return jac,f0\n",
        "    \n",
        "  for i in range(30):\n",
        "    jac,f0 = jacobian(f,x)\n",
        "    if math.sqrt(np.dot(f0,f0)/len(x)) < tol: return x\n",
        "    dx = gaussElimin(jac,-f0)\n",
        "    x = x + dx\n",
        "    if math.sqrt(np.dot(dx,dx)) < tol*max(max(abs(x)),1.0):\n",
        "      return x\n",
        "  print(\"Terlalu banyak iterasi\")"
      ],
      "metadata": {
        "id": "o9Jzw8m1IXCw"
      },
      "execution_count": 20,
      "outputs": []
    },
    {
      "cell_type": "code",
      "source": [
        "# Soal 1\n",
        "def f(x):\n",
        "  f = np.zeros(len(x))\n",
        "  f[0] = x[0]**2 + x[1]**2 - 2*x[2] - 6\n",
        "  f[1] = x[0]**2 - 2*x[1] + x[2]**3 - 3\n",
        "  f[2] = 2*x[0]*x[2] - 3*x[1]**2 - x[2]**2 + 27\n",
        "  return f\n",
        "  \n",
        "x0 = np.array([1.0, 1.0, 1.0])\n",
        "xs = newtonRaphson2(f,x0)\n",
        "print(\"Solusi x =\",xs)\n",
        "print(\"Nilai f  =\",f(xs))"
      ],
      "metadata": {
        "colab": {
          "base_uri": "https://localhost:8080/"
        },
        "id": "3ONuaStDI16_",
        "outputId": "d618bf62-1bc8-41d9-9b30-ed92d8796eb9"
      },
      "execution_count": 27,
      "outputs": [
        {
          "output_type": "stream",
          "name": "stdout",
          "text": [
            "Solusi x = [1. 3. 2.]\n",
            "Nilai f  = [ 3.24549276e-11  7.06759096e-11 -1.87867499e-11]\n"
          ]
        }
      ]
    },
    {
      "cell_type": "code",
      "source": [
        "# Soal 2\n",
        "def f(x):\n",
        "  f = np.zeros(len(x))\n",
        "  phi = 3.14\n",
        "  f[0] = 3*x[0] - np.cos(x[1]*x[2]) - 0.5\n",
        "  f[1] = x[0]**2 - 81*(x[1] + 0.1)**2 + np.sin(x[2]) + 1.06\n",
        "  f[2] = np.exp(-x[0]*x[1]) + 20*x[2] + (10*phi - 3)/3\n",
        "  return f\n",
        "  \n",
        "x0 = np.array([0.1, 0.1, -0.1])\n",
        "xs = newtonRaphson2(f,x0)\n",
        "print(\"Solusi x =\",xs)\n",
        "print(\"Nilai f  =\",f(xs))"
      ],
      "metadata": {
        "colab": {
          "base_uri": "https://localhost:8080/"
        },
        "id": "_zmBRbCgPKbe",
        "outputId": "d1e0e121-398c-41dd-9e82-51b27a9f3136"
      },
      "execution_count": 26,
      "outputs": [
        {
          "output_type": "stream",
          "name": "stdout",
          "text": [
            "Solusi x = [ 5.00000000e-01  1.42091814e-05 -5.23332978e-01]\n",
            "Nilai f  = [ 1.03805853e-13 -6.14319706e-11  9.59232693e-14]\n"
          ]
        }
      ]
    }
  ]
}