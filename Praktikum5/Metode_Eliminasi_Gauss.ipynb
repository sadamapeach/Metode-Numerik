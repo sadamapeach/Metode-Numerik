{
  "nbformat": 4,
  "nbformat_minor": 0,
  "metadata": {
    "colab": {
      "provenance": []
    },
    "kernelspec": {
      "name": "python3",
      "display_name": "Python 3"
    },
    "language_info": {
      "name": "python"
    }
  },
  "cells": [
    {
      "cell_type": "code",
      "execution_count": 3,
      "metadata": {
        "colab": {
          "base_uri": "https://localhost:8080/"
        },
        "id": "iryX0S1OMFRE",
        "outputId": "f00804a0-6da1-4e91-f293-0c5025965678"
      },
      "outputs": [
        {
          "output_type": "stream",
          "name": "stdout",
          "text": [
            "Hasil Metode Eliminasi Gauss\n",
            "[ 3.  -2.5  7. ]\n"
          ]
        }
      ],
      "source": [
        "## module gaussElimin\n",
        "\"\"\" x = gaussElimin(a,b).\n",
        "Solves [a]{b} = {x} by Gauss elimination.\n",
        "\"\"\"\n",
        "import numpy as np\n",
        "def gaussElimin(a,b):\n",
        "  n = len(b)\n",
        "  \n",
        "  # Elimination Phase\n",
        "  for k in range(0,n-1):\n",
        "    for i in range(k+1,n):\n",
        "      if a[i,k] != 0.0:\n",
        "        lam = a [i,k]/a[k,k]\n",
        "        a[i,k+1:n] = a[i,k+1:n] - lam*a[k,k+1:n]\n",
        "        b[i] = b[i] - lam*b[k]\n",
        "        \n",
        "  # Back substitution\n",
        "  for k in range(n-1,-1,-1):\n",
        "    b[k] = (b[k] - np.dot(a[k,k+1:n],b[k+1:n]))/a[k,k]\n",
        "    \n",
        "  return b\n",
        "\n",
        "a = np.array([[0.3, -0.2, 10], [3, -0.1, -0.2], [0.1, 7, -0.3]])\n",
        "b = np.array([71.4, 7.85, -19.3])\n",
        "\n",
        "print(\"Hasil Metode Eliminasi Gauss\")\n",
        "print(gaussElimin(a,b))"
      ]
    }
  ]
}