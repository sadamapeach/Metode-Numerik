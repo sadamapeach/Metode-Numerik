{
  "nbformat": 4,
  "nbformat_minor": 0,
  "metadata": {
    "colab": {
      "provenance": [],
      "collapsed_sections": []
    },
    "kernelspec": {
      "name": "python3",
      "display_name": "Python 3"
    },
    "language_info": {
      "name": "python"
    }
  },
  "cells": [
    {
      "cell_type": "code",
      "execution_count": 51,
      "metadata": {
        "colab": {
          "base_uri": "https://localhost:8080/"
        },
        "id": "67K65eXqmsyh",
        "outputId": "810821ec-df9b-4cba-8ed2-847bbb7d08fe"
      },
      "outputs": [
        {
          "output_type": "stream",
          "name": "stdout",
          "text": [
            "Looking in indexes: https://pypi.org/simple, https://us-python.pkg.dev/colab-wheels/public/simple/\n",
            "Requirement already satisfied: texttable in /usr/local/lib/python3.7/dist-packages (1.6.4)\n"
          ]
        }
      ],
      "source": [
        "import numpy as np\n",
        "!pip install texttable"
      ]
    },
    {
      "cell_type": "code",
      "source": [
        "# Integrasi Numerik dengan Metode Trapesium\n",
        "a = 0.0\n",
        "b = np.pi\n",
        "n = 128\n",
        "h = (b - a) / (n - 1)\n",
        "x = np.linspace(a, b, n)\n",
        "f = (x**2) * np.sin(2*x)\n",
        "\n",
        "I_trap = (h/2)*(f[0] + 2*sum(f[1:n-1]) + f[n-1])\n",
        "err_trap = 2 - I_trap"
      ],
      "metadata": {
        "id": "Uy76EefIm6u1"
      },
      "execution_count": 52,
      "outputs": []
    },
    {
      "cell_type": "code",
      "source": [
        "# Integrasi Numerik dengan Metode Simpson 1/3\n",
        "a = 0.0\n",
        "b = np.pi\n",
        "n = 128\n",
        "h = (b - a) / (n - 1)\n",
        "x = np.linspace(a, b, n)\n",
        "f = (x**2) * np.sin(2*x)\n",
        "\n",
        "I_simp = (h/3) * (f[0] + 2*sum(f[2:n-2:2]) + 4*sum(f[1:n-1:2]) + f[n-1])\n",
        "err_simp = 2 - I_simp"
      ],
      "metadata": {
        "id": "qpBlYpFny02u"
      },
      "execution_count": 53,
      "outputs": []
    },
    {
      "cell_type": "code",
      "source": [
        "print(\"\\t\\t\\t\\t\\tHasil Program untuk Menyelesaian Integrasi Numerik\")\n",
        "print(\"\\t\\t\\t\\t\\t   Int x^2 * sin(2x) dx ; syarat x(0) =0.0 , x(1) = pi\")\n",
        "print(\"\\t\\t\\t\\t\\t      dengan Metode Trapesium dan Simpson 1/3\")\n",
        "print(\"\\t\\t\\t\\t\\t      Dibuat oleh :\\n\")\n",
        "print(\"\\t\\t\\t\\t\\t\\t    Nama        : Oktaviana Sadama Nur Azizah\")\n",
        "print(\"\\t\\t\\t\\t\\t\\t    NIM         : 24060121130060\")\n",
        "print(\"\\t\\t\\t\\t\\t\\t    Prog. Studi : Informatika\")\n",
        "print(\"\\n\")\n",
        "\n",
        "# Tabel\n",
        "from texttable import Texttable\n",
        "l = [[\"N\", \"H\", \"Int Trapesium\", \"Err IT %\", \"Int Simpson 1/3\", \"Err IS 1/3 %\"]]\n",
        "m = [[n, h, I_trap, err_trap, I_simp, err_simp]]\n",
        "\n",
        "table = Texttable()\n",
        "table.set_cols_width([15,20,20,20,20,24])\n",
        "table.add_rows(l)\n",
        "print(table.draw())\n",
        "table.add_rows(m)\n",
        "print(table.draw())"
      ],
      "metadata": {
        "colab": {
          "base_uri": "https://localhost:8080/"
        },
        "id": "M05D6JdqnXOl",
        "outputId": "8ae57097-54f7-4523-f533-575309b09788"
      },
      "execution_count": 55,
      "outputs": [
        {
          "output_type": "stream",
          "name": "stdout",
          "text": [
            "\t\t\t\t\tHasil Program untuk Menyelesaian Integrasi Numerik\n",
            "\t\t\t\t\t   Int x^2 * sin(2x) dx ; syarat x(0) =0.0 , x(1) = pi\n",
            "\t\t\t\t\t      dengan Metode Trapesium dan Simpson 1/3\n",
            "\t\t\t\t\t      Dibuat oleh :\n",
            "\n",
            "\t\t\t\t\t\t    Nama        : Oktaviana Sadama Nur Azizah\n",
            "\t\t\t\t\t\t    NIM         : 24060121130060\n",
            "\t\t\t\t\t\t    Prog. Studi : Informatika\n",
            "\n",
            "\n",
            "+-----------------+----------------------+----------------------+----------------------+----------------------+--------------------------+\n",
            "|        N        |          H           |    Int Trapesium     |       Err IT %       |   Int Simpson 1/3    |       Err IS 1/3 %       |\n",
            "+=================+======================+======================+======================+======================+==========================+\n",
            "+-----------------+----------------------+----------------------+----------------------+----------------------+--------------------------+\n",
            "+-----------------+----------------------+----------------------+----------------------+----------------------+--------------------------+\n",
            "|       128       | 0.024736950028266088 |  -4.933795596859645  |  6.933795596859645   |  -4.924865935204262  |    6.924865935204262     |\n",
            "+=================+======================+======================+======================+======================+==========================+\n",
            "+-----------------+----------------------+----------------------+----------------------+----------------------+--------------------------+\n"
          ]
        }
      ]
    }
  ]
}