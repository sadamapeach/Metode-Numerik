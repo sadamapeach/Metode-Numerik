{
  "nbformat": 4,
  "nbformat_minor": 0,
  "metadata": {
    "colab": {
      "provenance": []
    },
    "kernelspec": {
      "name": "python3",
      "display_name": "Python 3"
    },
    "language_info": {
      "name": "python"
    }
  },
  "cells": [
    {
      "cell_type": "code",
      "execution_count": 115,
      "metadata": {
        "id": "Zi0l43jodix8"
      },
      "outputs": [],
      "source": [
        "import numpy as np\n",
        "import sympy\n",
        "\n",
        "\"\"\" Menggunakan metode Newton untuk mencari akar x dari fungsi variabel tunggal f \"\"\"\n",
        "def newton(f,f_prime,x0,tol = 1.e-6):\n",
        "  MAX_STEPS = 200\n",
        "\n",
        "# Header judul\n",
        "  print('\\tPencarian Akar Fungsi f(x) = e**x + x**2 - 3x -2 = 0')\n",
        "  print('\\t\\t   Dengan Metode Newton Raphson')\n",
        "  print('=====================================================================')\n",
        "\n",
        "  print(\"\"\"\n",
        "---------------------------------------------------------------------\n",
        "| Iter |          xc        |       f(xc)       |       delta       |\n",
        "---------------------------------------------------------------------\"\"\")\n",
        "\n",
        "  x = x0\n",
        "  x_array = [x0]\n",
        "  for k in range(1, MAX_STEPS+1):\n",
        "    xlama = x\n",
        "    x = x - f(x) / f_prime(x)\n",
        "    delta_x = abs(xlama - x)\n",
        "    x_array.append(x)\n",
        "    print('|  {}   | {} | {:.15f} | {:.15f} |'.format(k,x,f(x),delta_x))\n",
        "    if np.abs(f(x)) < tol:\n",
        "      break\n",
        "\n",
        "  print('---------------------------------------------------------------------\\n')\n",
        "  \n",
        "  if k == MAX_STEPS:\n",
        "    warnings.warn('Maximum number of steps exceeded')\n",
        "  return x, np.array(x_array)"
      ]
    },
    {
      "cell_type": "code",
      "source": [
        "# Mengatur fungsi sebagai fungsi lambda inline\n",
        "f = lambda x: sympy.exp(x) + x**2 - 3*x - 2\n",
        "f_prime = lambda x: sympy.exp(x) + 2*x - 3\n",
        "x0 = 0.\n",
        "x, x_array = newton(f, f_prime, x0, tol = 1.e-5)\n",
        "\n",
        "print('x = {}, f(x) = {}, Nsteps = {}'.format(x, f(x), len(x_array)))\n",
        "print(f_prime(x)*np.finfo('float').eps)\n",
        "\n",
        "print('\\nAkar pendekatan\\t:', x)\n",
        "print('Toleransi\\t: 0.00001')"
      ],
      "metadata": {
        "colab": {
          "base_uri": "https://localhost:8080/"
        },
        "id": "JA-cvRYDe7rh",
        "outputId": "d03851a2-3fc0-4b9f-a704-0f83d52c4885"
      },
      "execution_count": 120,
      "outputs": [
        {
          "output_type": "stream",
          "name": "stdout",
          "text": [
            "\tPencarian Akar Fungsi f(x) = e**x + x**2 - 3x -2 = 0\n",
            "\t\t   Dengan Metode Newton Raphson\n",
            "=====================================================================\n",
            "\n",
            "---------------------------------------------------------------------\n",
            "| Iter |          xc        |       f(xc)       |       delta       |\n",
            "---------------------------------------------------------------------\n",
            "|  1   | -0.500000000000000 | 0.356530659712633 | 0.500000000000000 |\n",
            "|  2   | -0.394936236647289 | 0.014506337675356 | 0.105063763352711 |\n",
            "|  3   | -0.390281024249941 | 0.000028982469901 | 0.004655212397348 |\n",
            "|  4   | -0.390271686197713 | 0.000000000116711 | 0.000009338052228 |\n",
            "---------------------------------------------------------------------\n",
            "\n",
            "x = -0.390271686197713, f(x) = 1.16710641151485E-10, Nsteps = 5\n",
            "-6.89153272208523e-16\n",
            "\n",
            "Akar pendekatan\t: -0.390271686197713\n",
            "Toleransi\t: 0.00001\n"
          ]
        }
      ]
    }
  ]
}